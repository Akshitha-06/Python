{
  "cells": [
    {
      "cell_type": "markdown",
      "metadata": {
        "id": "view-in-github",
        "colab_type": "text"
      },
      "source": [
        "<a href=\"https://colab.research.google.com/github/Akshitha-06/Python/blob/main/Python_for_beginners.ipynb\" target=\"_parent\"><img src=\"https://colab.research.google.com/assets/colab-badge.svg\" alt=\"Open In Colab\"/></a>"
      ]
    },
    {
      "cell_type": "code",
      "execution_count": null,
      "id": "89411712",
      "metadata": {
        "id": "89411712",
        "outputId": "fcf1a79e-4a93-4137-aa2a-917785a93aa2"
      },
      "outputs": [
        {
          "name": "stdout",
          "output_type": "stream",
          "text": [
            "Name:Jhon smith\n",
            "Age:20\n",
            "True\n"
          ]
        }
      ],
      "source": [
        "print(\"Name:Jhon smith\")\n",
        "print(\"Age:20\")\n",
        "is_new=True\n",
        "print(is_new)"
      ]
    },
    {
      "cell_type": "code",
      "execution_count": null,
      "id": "6788cb50",
      "metadata": {
        "id": "6788cb50",
        "outputId": "f841fa6e-475f-4976-cac3-ab1b3b6b2e70"
      },
      "outputs": [
        {
          "name": "stdout",
          "output_type": "stream",
          "text": [
            "name: Anu\n",
            "fav color: Grey\n",
            "Anu likes Grey\n"
          ]
        }
      ],
      "source": [
        "name=input(\"name: \")\n",
        "fav_color=input(\"fav color: \")\n",
        "print(name+' likes '+fav_color)"
      ]
    },
    {
      "cell_type": "code",
      "execution_count": null,
      "id": "d3d65001",
      "metadata": {
        "id": "d3d65001",
        "outputId": "8c311498-d4d6-4d1a-ba71-038aec004983"
      },
      "outputs": [
        {
          "name": "stdout",
          "output_type": "stream",
          "text": [
            "Enter your weight: 200\n",
            "90.70294784580499\n"
          ]
        }
      ],
      "source": [
        "weight=input(\"Enter your weight: \")\n",
        "\n",
        "weight_in_kg= float(weight)/2.205\n",
        "print(weight_in_kg)"
      ]
    },
    {
      "cell_type": "code",
      "execution_count": null,
      "id": "9410169c",
      "metadata": {
        "id": "9410169c",
        "outputId": "029b8bbe-302b-467a-b14a-94be4e5e798f"
      },
      "outputs": [
        {
          "name": "stdout",
          "output_type": "stream",
          "text": [
            "ennif\n"
          ]
        }
      ],
      "source": [
        "name=\"Jennifer\"\n",
        "print(name[1:-2])"
      ]
    },
    {
      "cell_type": "code",
      "execution_count": null,
      "id": "aae6fbb0",
      "metadata": {
        "id": "aae6fbb0"
      },
      "outputs": [],
      "source": [
        "import math"
      ]
    },
    {
      "cell_type": "code",
      "execution_count": null,
      "id": "4b868614",
      "metadata": {
        "id": "4b868614",
        "outputId": "8be928ec-3b8e-4ab9-b653-add90fdaa22a"
      },
      "outputs": [
        {
          "name": "stdout",
          "output_type": "stream",
          "text": [
            "-2\n"
          ]
        }
      ],
      "source": [
        "print(math.ceil(-2.9))"
      ]
    },
    {
      "cell_type": "code",
      "execution_count": null,
      "id": "607740df",
      "metadata": {
        "id": "607740df",
        "outputId": "cb1f860e-e742-4e12-c550-792b25d53b68"
      },
      "outputs": [
        {
          "name": "stdout",
          "output_type": "stream",
          "text": [
            "-3\n"
          ]
        }
      ],
      "source": [
        "print(math.floor(-2.9))"
      ]
    },
    {
      "cell_type": "code",
      "execution_count": null,
      "id": "309b5235",
      "metadata": {
        "id": "309b5235",
        "outputId": "0c0eaa78-3659-4ea7-a9c2-8d6c7f219953"
      },
      "outputs": [
        {
          "name": "stdout",
          "output_type": "stream",
          "text": [
            "2\n"
          ]
        }
      ],
      "source": [
        "print(math.floor(2.9))"
      ]
    },
    {
      "cell_type": "code",
      "execution_count": null,
      "id": "1fc00ae1",
      "metadata": {
        "id": "1fc00ae1",
        "outputId": "0eb03808-0838-45f2-9bd1-2ce5198c5b5c"
      },
      "outputs": [
        {
          "name": "stdout",
          "output_type": "stream",
          "text": [
            "3.975\n"
          ]
        }
      ],
      "source": [
        "print(math.fabs(-3.975))"
      ]
    },
    {
      "cell_type": "code",
      "execution_count": null,
      "id": "71950d44",
      "metadata": {
        "id": "71950d44",
        "outputId": "a95ffca6-c17a-4dfb-e36f-83e2e334eced"
      },
      "outputs": [
        {
          "data": {
            "text/plain": [
              "10"
            ]
          },
          "execution_count": 24,
          "metadata": {},
          "output_type": "execute_result"
        }
      ],
      "source": [
        "round(9.7895)"
      ]
    },
    {
      "cell_type": "code",
      "execution_count": null,
      "id": "4c639590",
      "metadata": {
        "id": "4c639590",
        "outputId": "6d27e442-7393-4ef3-8db3-105e643ee752"
      },
      "outputs": [
        {
          "name": "stdout",
          "output_type": "stream",
          "text": [
            "Price of a house is 1$\n",
            "Down_payment:$100000.0\n"
          ]
        }
      ],
      "source": [
        "print(\"Price of a house is 1$\")\n",
        "credit=True\n",
        "if credit:\n",
        "    credit_of_10percent=0.1*1000000\n",
        "    print(f\"Down_payment:${credit_of_10percent}\")\n",
        "else:\n",
        "    print(0.2*1000000)"
      ]
    },
    {
      "cell_type": "code",
      "execution_count": null,
      "id": "cde32cb0",
      "metadata": {
        "id": "cde32cb0",
        "outputId": "8735b123-0b3d-498f-faf5-434df1b452cb"
      },
      "outputs": [
        {
          "name": "stdout",
          "output_type": "stream",
          "text": [
            "name: anup\n",
            "Name_length : 4\n",
            "Name looks good\n"
          ]
        }
      ],
      "source": [
        "Name=input(\"name: \")\n",
        "name_len=len(Name)\n",
        "print(f\"Name_length : {name_len}\")\n",
        "if (name_len<3):\n",
        "    print(\"Name must be atleast 3 characters\")\n",
        "elif (name_len>50):\n",
        "    print(\"Name must be maximum of 50 characters\")\n",
        "else:\n",
        "    print(\"Name looks good\")"
      ]
    },
    {
      "cell_type": "code",
      "execution_count": null,
      "id": "39433727",
      "metadata": {
        "id": "39433727",
        "outputId": "27a42444-872d-4ea4-8f78-61dd1b828c51"
      },
      "outputs": [
        {
          "name": "stdout",
          "output_type": "stream",
          "text": [
            "Enter your weight: 159\n",
            "Is your weight in (L)bs or (K)g: l\n",
            "You are 72.10884353741497 kilos\n"
          ]
        }
      ],
      "source": [
        "weight=float(input(\"Enter your weight: \"))\n",
        "w=input(\"Is your weight in (L)bs or (K)g: \")\n",
        "if (w=='l'or w=='L'):\n",
        "    w_in_kg=weight/2.205\n",
        "    print(f\"You are {w_in_kg} kilos\")\n",
        "elif (w=='k'or w=='K'):  \n",
        "    w_in_lbs=weight*2.205\n",
        "    print(f\"You are {w_in_lbs} pounds\")\n",
        "else:\n",
        "    print(\"Invalid\")"
      ]
    },
    {
      "cell_type": "code",
      "execution_count": null,
      "id": "50d86649",
      "metadata": {
        "id": "50d86649",
        "outputId": "183b1660-5373-427e-c22d-ef9beecee03b"
      },
      "outputs": [
        {
          "name": "stdout",
          "output_type": "stream",
          "text": [
            "Enter your weight: 72\n",
            "Is your weight in (L)bs or (K)g: K\n",
            "You are 160.0 pounds\n"
          ]
        }
      ],
      "source": [
        "weight=float(input(\"Enter your weight: \"))\n",
        "w=input(\"Is your weight in (L)bs or (K)g: \")\n",
        "if (w.upper()=='L'):\n",
        "    w_in_kg=weight*.45\n",
        "    print(f\"You are {w_in_kg} kilos\")\n",
        "else:   \n",
        "    w_in_lbs=weight/.45\n",
        "    print(f\"You are {w_in_lbs} pounds\")"
      ]
    },
    {
      "cell_type": "code",
      "execution_count": 1,
      "id": "e4ad4741",
      "metadata": {
        "colab": {
          "base_uri": "https://localhost:8080/"
        },
        "id": "e4ad4741",
        "outputId": "80cd64b2-c088-4155-a906-8c5f858276ac"
      },
      "outputs": [
        {
          "name": "stdout",
          "output_type": "stream",
          "text": [
            "help\n",
            "start - to start the car \n",
            "stop - to stop the car \n",
            "exit - to exit\n",
            "exit\n"
          ]
        }
      ],
      "source": [
        "help=input()\n",
        "while(help.lower()=='help'):\n",
        "    car=input(\"start - to start the car \\nstop - to stop the car \\nexit - to exit\\n\")\n",
        "    if(car=='start'):\n",
        "        print(\"Car started...Ready to go!\")\n",
        "    elif(car=='stop'):\n",
        "        print(\"Car stopped.\")\n",
        "    else:\n",
        "        break\n",
        "else:\n",
        "    print(\"I don't understand that ...\")"
      ]
    },
    {
      "cell_type": "code",
      "execution_count": null,
      "id": "fa72f200",
      "metadata": {
        "id": "fa72f200",
        "outputId": "fa53132e-a725-47bc-b8af-efe95d44ad6a"
      },
      "outputs": [
        {
          "name": "stdout",
          "output_type": "stream",
          "text": [
            ">start\n",
            "Car started\n"
          ]
        },
        {
          "ename": "KeyboardInterrupt",
          "evalue": "Interrupted by user",
          "output_type": "error",
          "traceback": [
            "\u001b[0;31m---------------------------------------------------------------------------\u001b[0m",
            "\u001b[0;31mKeyboardInterrupt\u001b[0m                         Traceback (most recent call last)",
            "Input \u001b[0;32mIn [62]\u001b[0m, in \u001b[0;36m<cell line: 3>\u001b[0;34m()\u001b[0m\n\u001b[1;32m      1\u001b[0m command\u001b[38;5;241m=\u001b[39m\u001b[38;5;124m\"\u001b[39m\u001b[38;5;124m\"\u001b[39m\n\u001b[1;32m      2\u001b[0m \u001b[38;5;28;01mwhile\u001b[39;00m \u001b[38;5;28;01mTrue\u001b[39;00m:\n\u001b[0;32m----> 3\u001b[0m     command\u001b[38;5;241m=\u001b[39m\u001b[38;5;28;43minput\u001b[39;49m\u001b[43m(\u001b[49m\u001b[38;5;124;43m\"\u001b[39;49m\u001b[38;5;124;43m>\u001b[39;49m\u001b[38;5;124;43m\"\u001b[39;49m\u001b[43m)\u001b[49m\u001b[38;5;241m.\u001b[39mlower()\n\u001b[1;32m      4\u001b[0m     \u001b[38;5;28;01mif\u001b[39;00m(command\u001b[38;5;241m==\u001b[39m\u001b[38;5;124m'\u001b[39m\u001b[38;5;124mstart\u001b[39m\u001b[38;5;124m'\u001b[39m):\n\u001b[1;32m      5\u001b[0m         \u001b[38;5;28mprint\u001b[39m(\u001b[38;5;124m\"\u001b[39m\u001b[38;5;124mCar started\u001b[39m\u001b[38;5;124m\"\u001b[39m)\n",
            "File \u001b[0;32m~/anaconda3/lib/python3.9/site-packages/ipykernel/kernelbase.py:1075\u001b[0m, in \u001b[0;36mKernel.raw_input\u001b[0;34m(self, prompt)\u001b[0m\n\u001b[1;32m   1071\u001b[0m \u001b[38;5;28;01mif\u001b[39;00m \u001b[38;5;129;01mnot\u001b[39;00m \u001b[38;5;28mself\u001b[39m\u001b[38;5;241m.\u001b[39m_allow_stdin:\n\u001b[1;32m   1072\u001b[0m     \u001b[38;5;28;01mraise\u001b[39;00m StdinNotImplementedError(\n\u001b[1;32m   1073\u001b[0m         \u001b[38;5;124m\"\u001b[39m\u001b[38;5;124mraw_input was called, but this frontend does not support input requests.\u001b[39m\u001b[38;5;124m\"\u001b[39m\n\u001b[1;32m   1074\u001b[0m     )\n\u001b[0;32m-> 1075\u001b[0m \u001b[38;5;28;01mreturn\u001b[39;00m \u001b[38;5;28;43mself\u001b[39;49m\u001b[38;5;241;43m.\u001b[39;49m\u001b[43m_input_request\u001b[49m\u001b[43m(\u001b[49m\n\u001b[1;32m   1076\u001b[0m \u001b[43m    \u001b[49m\u001b[38;5;28;43mstr\u001b[39;49m\u001b[43m(\u001b[49m\u001b[43mprompt\u001b[49m\u001b[43m)\u001b[49m\u001b[43m,\u001b[49m\n\u001b[1;32m   1077\u001b[0m \u001b[43m    \u001b[49m\u001b[38;5;28;43mself\u001b[39;49m\u001b[38;5;241;43m.\u001b[39;49m\u001b[43m_parent_ident\u001b[49m\u001b[43m[\u001b[49m\u001b[38;5;124;43m\"\u001b[39;49m\u001b[38;5;124;43mshell\u001b[39;49m\u001b[38;5;124;43m\"\u001b[39;49m\u001b[43m]\u001b[49m\u001b[43m,\u001b[49m\n\u001b[1;32m   1078\u001b[0m \u001b[43m    \u001b[49m\u001b[38;5;28;43mself\u001b[39;49m\u001b[38;5;241;43m.\u001b[39;49m\u001b[43mget_parent\u001b[49m\u001b[43m(\u001b[49m\u001b[38;5;124;43m\"\u001b[39;49m\u001b[38;5;124;43mshell\u001b[39;49m\u001b[38;5;124;43m\"\u001b[39;49m\u001b[43m)\u001b[49m\u001b[43m,\u001b[49m\n\u001b[1;32m   1079\u001b[0m \u001b[43m    \u001b[49m\u001b[43mpassword\u001b[49m\u001b[38;5;241;43m=\u001b[39;49m\u001b[38;5;28;43;01mFalse\u001b[39;49;00m\u001b[43m,\u001b[49m\n\u001b[1;32m   1080\u001b[0m \u001b[43m\u001b[49m\u001b[43m)\u001b[49m\n",
            "File \u001b[0;32m~/anaconda3/lib/python3.9/site-packages/ipykernel/kernelbase.py:1120\u001b[0m, in \u001b[0;36mKernel._input_request\u001b[0;34m(self, prompt, ident, parent, password)\u001b[0m\n\u001b[1;32m   1117\u001b[0m             \u001b[38;5;28;01mbreak\u001b[39;00m\n\u001b[1;32m   1118\u001b[0m \u001b[38;5;28;01mexcept\u001b[39;00m \u001b[38;5;167;01mKeyboardInterrupt\u001b[39;00m:\n\u001b[1;32m   1119\u001b[0m     \u001b[38;5;66;03m# re-raise KeyboardInterrupt, to truncate traceback\u001b[39;00m\n\u001b[0;32m-> 1120\u001b[0m     \u001b[38;5;28;01mraise\u001b[39;00m \u001b[38;5;167;01mKeyboardInterrupt\u001b[39;00m(\u001b[38;5;124m\"\u001b[39m\u001b[38;5;124mInterrupted by user\u001b[39m\u001b[38;5;124m\"\u001b[39m) \u001b[38;5;28;01mfrom\u001b[39;00m \u001b[38;5;28mNone\u001b[39m\n\u001b[1;32m   1121\u001b[0m \u001b[38;5;28;01mexcept\u001b[39;00m \u001b[38;5;167;01mException\u001b[39;00m:\n\u001b[1;32m   1122\u001b[0m     \u001b[38;5;28mself\u001b[39m\u001b[38;5;241m.\u001b[39mlog\u001b[38;5;241m.\u001b[39mwarning(\u001b[38;5;124m\"\u001b[39m\u001b[38;5;124mInvalid Message:\u001b[39m\u001b[38;5;124m\"\u001b[39m, exc_info\u001b[38;5;241m=\u001b[39m\u001b[38;5;28;01mTrue\u001b[39;00m)\n",
            "\u001b[0;31mKeyboardInterrupt\u001b[0m: Interrupted by user"
          ]
        }
      ],
      "source": [
        "command=\"\"\n",
        "while True:\n",
        "    command=input(\">\").lower()\n",
        "    if(command=='start'):\n",
        "        print(\"Car started\")\n",
        "    elif(command=='stop'):\n",
        "        print(\"Car stopped\")\n",
        "    elif(command=='help'):\n",
        "        print(\"\"\"\n",
        "start - to start the car\n",
        "stop - to stop the car\n",
        "exit - to exit\n",
        "\"\"\")\n",
        "    elif(command=='quit'):\n",
        "        break\n",
        "else:\n",
        "    print(\"Sorry, I don't understand that\")"
      ]
    },
    {
      "cell_type": "code",
      "execution_count": null,
      "id": "3ab06062",
      "metadata": {
        "id": "3ab06062"
      },
      "outputs": [],
      "source": []
    }
  ],
  "metadata": {
    "kernelspec": {
      "display_name": "Python 3 (ipykernel)",
      "language": "python",
      "name": "python3"
    },
    "language_info": {
      "codemirror_mode": {
        "name": "ipython",
        "version": 3
      },
      "file_extension": ".py",
      "mimetype": "text/x-python",
      "name": "python",
      "nbconvert_exporter": "python",
      "pygments_lexer": "ipython3",
      "version": "3.9.12"
    },
    "colab": {
      "name": "Python for beginners.ipynb",
      "provenance": [],
      "include_colab_link": true
    }
  },
  "nbformat": 4,
  "nbformat_minor": 5
}