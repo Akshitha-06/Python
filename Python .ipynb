{
 "cells": [
  {
   "cell_type": "code",
   "execution_count": 4,
   "id": "89411712",
   "metadata": {},
   "outputs": [
    {
     "name": "stdout",
     "output_type": "stream",
     "text": [
      "Name:Jhon smith\n",
      "Age:20\n",
      "True\n"
     ]
    }
   ],
   "source": [
    "print(\"Name:Jhon smith\")\n",
    "print(\"Age:20\")\n",
    "is_new=True\n",
    "print(is_new)"
   ]
  },
  {
   "cell_type": "code",
   "execution_count": 9,
   "id": "6788cb50",
   "metadata": {},
   "outputs": [
    {
     "name": "stdout",
     "output_type": "stream",
     "text": [
      "name: Anu\n",
      "fav color: Grey\n",
      "Anu likes Grey\n"
     ]
    }
   ],
   "source": [
    "name=input(\"name: \")\n",
    "fav_color=input(\"fav color: \")\n",
    "print(name+' likes '+fav_color)"
   ]
  },
  {
   "cell_type": "code",
   "execution_count": 13,
   "id": "d3d65001",
   "metadata": {},
   "outputs": [
    {
     "name": "stdout",
     "output_type": "stream",
     "text": [
      "Enter your weight: 200\n",
      "90.70294784580499\n"
     ]
    }
   ],
   "source": [
    "weight=input(\"Enter your weight: \")\n",
    "\n",
    "weight_in_kg= float(weight)/2.205\n",
    "print(weight_in_kg)"
   ]
  },
  {
   "cell_type": "code",
   "execution_count": 15,
   "id": "9410169c",
   "metadata": {},
   "outputs": [
    {
     "name": "stdout",
     "output_type": "stream",
     "text": [
      "ennif\n"
     ]
    }
   ],
   "source": [
    "name=\"Jennifer\"\n",
    "print(name[1:-2])"
   ]
  },
  {
   "cell_type": "code",
   "execution_count": null,
   "id": "aae6fbb0",
   "metadata": {},
   "outputs": [],
   "source": []
  }
 ],
 "metadata": {
  "kernelspec": {
   "display_name": "Python 3 (ipykernel)",
   "language": "python",
   "name": "python3"
  },
  "language_info": {
   "codemirror_mode": {
    "name": "ipython",
    "version": 3
   },
   "file_extension": ".py",
   "mimetype": "text/x-python",
   "name": "python",
   "nbconvert_exporter": "python",
   "pygments_lexer": "ipython3",
   "version": "3.9.12"
  }
 },
 "nbformat": 4,
 "nbformat_minor": 5
}
